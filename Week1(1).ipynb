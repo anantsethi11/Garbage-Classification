{
 "cells": [
  {
   "cell_type": "code",
   "execution_count": null,
   "id": "cba09abd-ff4e-4ba1-ba66-f80b9b58905a",
   "metadata": {},
   "outputs": [],
   "source": [
    "!pip install tensorflow\n"
   ]
  },
  {
   "cell_type": "code",
   "execution_count": null,
   "id": "207a37d1-dc61-41b1-a710-5f91af7ac741",
   "metadata": {},
   "outputs": [],
   "source": [
    "import numpy as np  # NumPy for numerical operations\n",
    "import matplotlib.pyplot as plt  # Matplotlib for visualizations\n",
    "import seaborn as sns  # Seaborn for statistical plots\n",
    "import tensorflow as tf  # TensorFlow for ML models\n",
    "from tensorflow import keras  # High-level API in TensorFlow\n",
    "# from tensorflow.keras import Layer  # Uncomment if creating custom layers\n",
    "from tensorflow.keras.models import Sequential  # For linear stack of layers\n",
    "from tensorflow.keras.layers import Rescaling, GlobalAveragePooling2D  # Common layers\n",
    "from tensorflow.keras import layers, optimizers, callbacks  # Core Keras components\n",
    "from sklearn.utils.class_weight import compute_class_weight  # For handling class imbalance\n",
    "from tensorflow.keras.applications import EfficientNetV2B2  # Pretrained model\n",
    "from sklearn.metrics import confusion_matrix, classification_report  # Evaluation metrics\n",
    "import gradio as gr  # For building simple web UIs\n",
    "\n",
    "\n"
   ]
  },
  {
   "cell_type": "code",
   "execution_count": null,
   "id": "0fd3e681-9886-4de2-bfbe-faea9d2e03e2",
   "metadata": {},
   "outputs": [],
   "source": []
  }
 ],
 "metadata": {
  "kernelspec": {
   "display_name": "Python 3 (ipykernel)",
   "language": "python",
   "name": "python3"
  },
  "language_info": {
   "codemirror_mode": {
    "name": "ipython",
    "version": 3
   },
   "file_extension": ".py",
   "mimetype": "text/x-python",
   "name": "python",
   "nbconvert_exporter": "python",
   "pygments_lexer": "ipython3",
   "version": "3.12.4"
  }
 },
 "nbformat": 4,
 "nbformat_minor": 5
}
